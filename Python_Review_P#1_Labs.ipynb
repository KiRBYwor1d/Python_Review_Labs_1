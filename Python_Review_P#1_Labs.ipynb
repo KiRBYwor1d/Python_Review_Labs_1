{
 "cells": [
  {
   "cell_type": "markdown",
   "id": "b97dc926",
   "metadata": {},
   "source": [
    "## Lab1-Variables\n",
    "- Define a variable that has a value of your favourite season.\n",
    "- Define “x“ variable has an integer value and variable “y” has a float value.\n",
    "- Assign One Value to Multiple Variables.\n",
    "- Assign Many Values to Multiple Variables."
   ]
  },
  {
   "cell_type": "code",
   "execution_count": 1,
   "id": "8d2579eb",
   "metadata": {},
   "outputs": [],
   "source": [
    "# Favorite Season\n",
    "favorite_season = \"Summer\"  \n",
    "\n",
    "# Integer and Float Variables\n",
    "x = 10\n",
    "y = 3.14\n",
    "\n",
    "# Assigning One Value to Multiple Variables\n",
    "a = b = c = \"Hello\"\n",
    "\n",
    "# Assigning Many Values to Multiple Variables (using a list)\n",
    "fruits = [\"apple\", \"banana\", \"cherry\"]\n",
    "\n",
    "# Assigning Many Values to Multiple Variables (using tuple unpacking)\n",
    "vegetables = \"carrot\", \"broccoli\", \"cucumber\"\n"
   ]
  },
  {
   "cell_type": "markdown",
   "id": "e6d060b4",
   "metadata": {},
   "source": [
    "## Lab2-Conditions\n",
    "\n",
    "### You want to recommend a movie to a friend based on the rating and popularity. To accomplish this do the following: \n",
    "\n",
    "- Create a variable for the movie (choose any movie you like).\n",
    "- Create a variable of type int to hold the rating of the movie out of 5. Give this movie rate = 3\n",
    "- Create a popularity score of type float, let it be 72.65\n",
    "- Using an if statement:\n",
    " - Check if the movie rating is 4 or greater and the popularity is greater than 80, print \"Highly recommended\".\n",
    " - Else if the movie rating is 3 or greater and the popularity is greater than 70, print \"I recommended it, It is good\".\n",
    " - Else if the movie rating is 2 or less and the popularity is greater than 60, print \"You should check it out!\".\n",
    " - Else the movie rating is 2 or less and the popularity is less than 50, print \"Don't watch it, It is a waste of time\"."
   ]
  },
  {
   "cell_type": "code",
   "execution_count": 2,
   "id": "b41b0f4b",
   "metadata": {},
   "outputs": [
    {
     "name": "stdout",
     "output_type": "stream",
     "text": [
      "I recommend it, Poor Things is good.\n"
     ]
    }
   ],
   "source": [
    "# Movie Information\n",
    "movie_title = \"Poor Things\"  \n",
    "movie_rating = 3  \n",
    "popularity_score = 72.65  \n",
    "\n",
    "# Recommendation Logic using if-elif-else statements\n",
    "if movie_rating >= 4 and popularity_score > 80:\n",
    "  print(f\"Highly recommended! You should definitely watch {movie_title}.\")\n",
    "elif movie_rating >= 3 and popularity_score > 70:\n",
    "  print(f\"I recommend it, {movie_title} is good.\")\n",
    "elif movie_rating <= 2 and popularity_score > 60:\n",
    "  print(f\"You should check it out! {movie_title} might surprise you.\")\n",
    "else:\n",
    "  print(f\"Don't watch it, {movie_title} is a waste of time.\")\n"
   ]
  }
 ],
 "metadata": {
  "kernelspec": {
   "display_name": "Python 3 (ipykernel)",
   "language": "python",
   "name": "python3"
  },
  "language_info": {
   "codemirror_mode": {
    "name": "ipython",
    "version": 3
   },
   "file_extension": ".py",
   "mimetype": "text/x-python",
   "name": "python",
   "nbconvert_exporter": "python",
   "pygments_lexer": "ipython3",
   "version": "3.11.3"
  }
 },
 "nbformat": 4,
 "nbformat_minor": 5
}
